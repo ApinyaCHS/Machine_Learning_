{
 "cells": [
  {
   "cell_type": "code",
   "execution_count": 1,
   "id": "88a776b7",
   "metadata": {
    "_cell_guid": "b1076dfc-b9ad-4769-8c92-a6c4dae69d19",
    "_uuid": "8f2839f25d086af736a60e9eeb907d3b93b6e0e5",
    "execution": {
     "iopub.execute_input": "2023-08-06T13:32:56.050343Z",
     "iopub.status.busy": "2023-08-06T13:32:56.049511Z",
     "iopub.status.idle": "2023-08-06T13:32:56.064575Z",
     "shell.execute_reply": "2023-08-06T13:32:56.063377Z"
    },
    "papermill": {
     "duration": 0.025624,
     "end_time": "2023-08-06T13:32:56.067424",
     "exception": false,
     "start_time": "2023-08-06T13:32:56.041800",
     "status": "completed"
    },
    "tags": []
   },
   "outputs": [
    {
     "name": "stdout",
     "output_type": "stream",
     "text": [
      "/kaggle/input/digit-recognizer/sample_submission.csv\n",
      "/kaggle/input/digit-recognizer/train.csv\n",
      "/kaggle/input/digit-recognizer/test.csv\n"
     ]
    }
   ],
   "source": [
    "# This Python 3 environment comes with many helpful analytics libraries installed\n",
    "# It is defined by the kaggle/python Docker image: https://github.com/kaggle/docker-python\n",
    "# For example, here's several helpful packages to load\n",
    "\n",
    "import numpy as np # linear algebra\n",
    "import pandas as pd # data processing, CSV file I/O (e.g. pd.read_csv)\n",
    "\n",
    "# Input data files are available in the read-only \"../input/\" directory\n",
    "# For example, running this (by clicking run or pressing Shift+Enter) will list all files under the input directory\n",
    "\n",
    "import os\n",
    "for dirname, _, filenames in os.walk('/kaggle/input'):\n",
    "    for filename in filenames:\n",
    "        print(os.path.join(dirname, filename))\n",
    "\n",
    "# You can write up to 20GB to the current directory (/kaggle/working/) that gets preserved as output when you create a version using \"Save & Run All\" \n",
    "# You can also write temporary files to /kaggle/temp/, but they won't be saved outside of the current session"
   ]
  },
  {
   "cell_type": "code",
   "execution_count": 2,
   "id": "64b87016",
   "metadata": {
    "execution": {
     "iopub.execute_input": "2023-08-06T13:32:56.079866Z",
     "iopub.status.busy": "2023-08-06T13:32:56.079160Z",
     "iopub.status.idle": "2023-08-06T13:33:05.322505Z",
     "shell.execute_reply": "2023-08-06T13:33:05.321334Z"
    },
    "papermill": {
     "duration": 9.252654,
     "end_time": "2023-08-06T13:33:05.325308",
     "exception": false,
     "start_time": "2023-08-06T13:32:56.072654",
     "status": "completed"
    },
    "tags": []
   },
   "outputs": [
    {
     "name": "stderr",
     "output_type": "stream",
     "text": [
      "/opt/conda/lib/python3.10/site-packages/scipy/__init__.py:146: UserWarning: A NumPy version >=1.16.5 and <1.23.0 is required for this version of SciPy (detected version 1.23.5\n",
      "  warnings.warn(f\"A NumPy version >={np_minversion} and <{np_maxversion}\"\n",
      "/opt/conda/lib/python3.10/site-packages/tensorflow_io/python/ops/__init__.py:98: UserWarning: unable to load libtensorflow_io_plugins.so: unable to open file: libtensorflow_io_plugins.so, from paths: ['/opt/conda/lib/python3.10/site-packages/tensorflow_io/python/ops/libtensorflow_io_plugins.so']\n",
      "caused by: ['/opt/conda/lib/python3.10/site-packages/tensorflow_io/python/ops/libtensorflow_io_plugins.so: undefined symbol: _ZN3tsl6StatusC1EN10tensorflow5error4CodeESt17basic_string_viewIcSt11char_traitsIcEENS_14SourceLocationE']\n",
      "  warnings.warn(f\"unable to load libtensorflow_io_plugins.so: {e}\")\n",
      "/opt/conda/lib/python3.10/site-packages/tensorflow_io/python/ops/__init__.py:104: UserWarning: file system plugins are not loaded: unable to open file: libtensorflow_io.so, from paths: ['/opt/conda/lib/python3.10/site-packages/tensorflow_io/python/ops/libtensorflow_io.so']\n",
      "caused by: ['/opt/conda/lib/python3.10/site-packages/tensorflow_io/python/ops/libtensorflow_io.so: undefined symbol: _ZTVN10tensorflow13GcsFileSystemE']\n",
      "  warnings.warn(f\"file system plugins are not loaded: {e}\")\n"
     ]
    }
   ],
   "source": [
    "import tensorflow as tf\n",
    "from sklearn.model_selection import train_test_split\n"
   ]
  },
  {
   "cell_type": "code",
   "execution_count": 3,
   "id": "160da886",
   "metadata": {
    "execution": {
     "iopub.execute_input": "2023-08-06T13:33:05.337917Z",
     "iopub.status.busy": "2023-08-06T13:33:05.337180Z",
     "iopub.status.idle": "2023-08-06T13:33:12.047385Z",
     "shell.execute_reply": "2023-08-06T13:33:12.046543Z"
    },
    "papermill": {
     "duration": 6.719011,
     "end_time": "2023-08-06T13:33:12.049829",
     "exception": false,
     "start_time": "2023-08-06T13:33:05.330818",
     "status": "completed"
    },
    "tags": []
   },
   "outputs": [],
   "source": [
    "data = pd.read_csv(\"/kaggle/input/digit-recognizer/train.csv\")\n",
    "test_digit = pd.read_csv(\"/kaggle/input/digit-recognizer/test.csv\")\n",
    "sample = pd.read_csv(\"/kaggle/input/digit-recognizer/sample_submission.csv\")"
   ]
  },
  {
   "cell_type": "code",
   "execution_count": 4,
   "id": "48aea817",
   "metadata": {
    "execution": {
     "iopub.execute_input": "2023-08-06T13:33:12.061787Z",
     "iopub.status.busy": "2023-08-06T13:33:12.061374Z",
     "iopub.status.idle": "2023-08-06T13:33:12.070195Z",
     "shell.execute_reply": "2023-08-06T13:33:12.069091Z"
    },
    "papermill": {
     "duration": 0.018,
     "end_time": "2023-08-06T13:33:12.073001",
     "exception": false,
     "start_time": "2023-08-06T13:33:12.055001",
     "status": "completed"
    },
    "tags": []
   },
   "outputs": [],
   "source": [
    "y = data[\"label\"]"
   ]
  },
  {
   "cell_type": "code",
   "execution_count": 5,
   "id": "bc53bc5f",
   "metadata": {
    "execution": {
     "iopub.execute_input": "2023-08-06T13:33:12.085004Z",
     "iopub.status.busy": "2023-08-06T13:33:12.084604Z",
     "iopub.status.idle": "2023-08-06T13:33:12.211119Z",
     "shell.execute_reply": "2023-08-06T13:33:12.209949Z"
    },
    "papermill": {
     "duration": 0.135476,
     "end_time": "2023-08-06T13:33:12.213653",
     "exception": false,
     "start_time": "2023-08-06T13:33:12.078177",
     "status": "completed"
    },
    "tags": []
   },
   "outputs": [],
   "source": [
    "X = data.drop(columns=['label'])"
   ]
  },
  {
   "cell_type": "code",
   "execution_count": 6,
   "id": "2de9f06a",
   "metadata": {
    "execution": {
     "iopub.execute_input": "2023-08-06T13:33:12.226048Z",
     "iopub.status.busy": "2023-08-06T13:33:12.225402Z",
     "iopub.status.idle": "2023-08-06T13:33:12.255104Z",
     "shell.execute_reply": "2023-08-06T13:33:12.254100Z"
    },
    "papermill": {
     "duration": 0.038758,
     "end_time": "2023-08-06T13:33:12.257861",
     "exception": false,
     "start_time": "2023-08-06T13:33:12.219103",
     "status": "completed"
    },
    "tags": []
   },
   "outputs": [
    {
     "data": {
      "text/html": [
       "<div>\n",
       "<style scoped>\n",
       "    .dataframe tbody tr th:only-of-type {\n",
       "        vertical-align: middle;\n",
       "    }\n",
       "\n",
       "    .dataframe tbody tr th {\n",
       "        vertical-align: top;\n",
       "    }\n",
       "\n",
       "    .dataframe thead th {\n",
       "        text-align: right;\n",
       "    }\n",
       "</style>\n",
       "<table border=\"1\" class=\"dataframe\">\n",
       "  <thead>\n",
       "    <tr style=\"text-align: right;\">\n",
       "      <th></th>\n",
       "      <th>pixel0</th>\n",
       "      <th>pixel1</th>\n",
       "      <th>pixel2</th>\n",
       "      <th>pixel3</th>\n",
       "      <th>pixel4</th>\n",
       "      <th>pixel5</th>\n",
       "      <th>pixel6</th>\n",
       "      <th>pixel7</th>\n",
       "      <th>pixel8</th>\n",
       "      <th>pixel9</th>\n",
       "      <th>...</th>\n",
       "      <th>pixel774</th>\n",
       "      <th>pixel775</th>\n",
       "      <th>pixel776</th>\n",
       "      <th>pixel777</th>\n",
       "      <th>pixel778</th>\n",
       "      <th>pixel779</th>\n",
       "      <th>pixel780</th>\n",
       "      <th>pixel781</th>\n",
       "      <th>pixel782</th>\n",
       "      <th>pixel783</th>\n",
       "    </tr>\n",
       "  </thead>\n",
       "  <tbody>\n",
       "    <tr>\n",
       "      <th>0</th>\n",
       "      <td>0</td>\n",
       "      <td>0</td>\n",
       "      <td>0</td>\n",
       "      <td>0</td>\n",
       "      <td>0</td>\n",
       "      <td>0</td>\n",
       "      <td>0</td>\n",
       "      <td>0</td>\n",
       "      <td>0</td>\n",
       "      <td>0</td>\n",
       "      <td>...</td>\n",
       "      <td>0</td>\n",
       "      <td>0</td>\n",
       "      <td>0</td>\n",
       "      <td>0</td>\n",
       "      <td>0</td>\n",
       "      <td>0</td>\n",
       "      <td>0</td>\n",
       "      <td>0</td>\n",
       "      <td>0</td>\n",
       "      <td>0</td>\n",
       "    </tr>\n",
       "    <tr>\n",
       "      <th>1</th>\n",
       "      <td>0</td>\n",
       "      <td>0</td>\n",
       "      <td>0</td>\n",
       "      <td>0</td>\n",
       "      <td>0</td>\n",
       "      <td>0</td>\n",
       "      <td>0</td>\n",
       "      <td>0</td>\n",
       "      <td>0</td>\n",
       "      <td>0</td>\n",
       "      <td>...</td>\n",
       "      <td>0</td>\n",
       "      <td>0</td>\n",
       "      <td>0</td>\n",
       "      <td>0</td>\n",
       "      <td>0</td>\n",
       "      <td>0</td>\n",
       "      <td>0</td>\n",
       "      <td>0</td>\n",
       "      <td>0</td>\n",
       "      <td>0</td>\n",
       "    </tr>\n",
       "    <tr>\n",
       "      <th>2</th>\n",
       "      <td>0</td>\n",
       "      <td>0</td>\n",
       "      <td>0</td>\n",
       "      <td>0</td>\n",
       "      <td>0</td>\n",
       "      <td>0</td>\n",
       "      <td>0</td>\n",
       "      <td>0</td>\n",
       "      <td>0</td>\n",
       "      <td>0</td>\n",
       "      <td>...</td>\n",
       "      <td>0</td>\n",
       "      <td>0</td>\n",
       "      <td>0</td>\n",
       "      <td>0</td>\n",
       "      <td>0</td>\n",
       "      <td>0</td>\n",
       "      <td>0</td>\n",
       "      <td>0</td>\n",
       "      <td>0</td>\n",
       "      <td>0</td>\n",
       "    </tr>\n",
       "    <tr>\n",
       "      <th>3</th>\n",
       "      <td>0</td>\n",
       "      <td>0</td>\n",
       "      <td>0</td>\n",
       "      <td>0</td>\n",
       "      <td>0</td>\n",
       "      <td>0</td>\n",
       "      <td>0</td>\n",
       "      <td>0</td>\n",
       "      <td>0</td>\n",
       "      <td>0</td>\n",
       "      <td>...</td>\n",
       "      <td>0</td>\n",
       "      <td>0</td>\n",
       "      <td>0</td>\n",
       "      <td>0</td>\n",
       "      <td>0</td>\n",
       "      <td>0</td>\n",
       "      <td>0</td>\n",
       "      <td>0</td>\n",
       "      <td>0</td>\n",
       "      <td>0</td>\n",
       "    </tr>\n",
       "    <tr>\n",
       "      <th>4</th>\n",
       "      <td>0</td>\n",
       "      <td>0</td>\n",
       "      <td>0</td>\n",
       "      <td>0</td>\n",
       "      <td>0</td>\n",
       "      <td>0</td>\n",
       "      <td>0</td>\n",
       "      <td>0</td>\n",
       "      <td>0</td>\n",
       "      <td>0</td>\n",
       "      <td>...</td>\n",
       "      <td>0</td>\n",
       "      <td>0</td>\n",
       "      <td>0</td>\n",
       "      <td>0</td>\n",
       "      <td>0</td>\n",
       "      <td>0</td>\n",
       "      <td>0</td>\n",
       "      <td>0</td>\n",
       "      <td>0</td>\n",
       "      <td>0</td>\n",
       "    </tr>\n",
       "    <tr>\n",
       "      <th>...</th>\n",
       "      <td>...</td>\n",
       "      <td>...</td>\n",
       "      <td>...</td>\n",
       "      <td>...</td>\n",
       "      <td>...</td>\n",
       "      <td>...</td>\n",
       "      <td>...</td>\n",
       "      <td>...</td>\n",
       "      <td>...</td>\n",
       "      <td>...</td>\n",
       "      <td>...</td>\n",
       "      <td>...</td>\n",
       "      <td>...</td>\n",
       "      <td>...</td>\n",
       "      <td>...</td>\n",
       "      <td>...</td>\n",
       "      <td>...</td>\n",
       "      <td>...</td>\n",
       "      <td>...</td>\n",
       "      <td>...</td>\n",
       "      <td>...</td>\n",
       "    </tr>\n",
       "    <tr>\n",
       "      <th>41995</th>\n",
       "      <td>0</td>\n",
       "      <td>0</td>\n",
       "      <td>0</td>\n",
       "      <td>0</td>\n",
       "      <td>0</td>\n",
       "      <td>0</td>\n",
       "      <td>0</td>\n",
       "      <td>0</td>\n",
       "      <td>0</td>\n",
       "      <td>0</td>\n",
       "      <td>...</td>\n",
       "      <td>0</td>\n",
       "      <td>0</td>\n",
       "      <td>0</td>\n",
       "      <td>0</td>\n",
       "      <td>0</td>\n",
       "      <td>0</td>\n",
       "      <td>0</td>\n",
       "      <td>0</td>\n",
       "      <td>0</td>\n",
       "      <td>0</td>\n",
       "    </tr>\n",
       "    <tr>\n",
       "      <th>41996</th>\n",
       "      <td>0</td>\n",
       "      <td>0</td>\n",
       "      <td>0</td>\n",
       "      <td>0</td>\n",
       "      <td>0</td>\n",
       "      <td>0</td>\n",
       "      <td>0</td>\n",
       "      <td>0</td>\n",
       "      <td>0</td>\n",
       "      <td>0</td>\n",
       "      <td>...</td>\n",
       "      <td>0</td>\n",
       "      <td>0</td>\n",
       "      <td>0</td>\n",
       "      <td>0</td>\n",
       "      <td>0</td>\n",
       "      <td>0</td>\n",
       "      <td>0</td>\n",
       "      <td>0</td>\n",
       "      <td>0</td>\n",
       "      <td>0</td>\n",
       "    </tr>\n",
       "    <tr>\n",
       "      <th>41997</th>\n",
       "      <td>0</td>\n",
       "      <td>0</td>\n",
       "      <td>0</td>\n",
       "      <td>0</td>\n",
       "      <td>0</td>\n",
       "      <td>0</td>\n",
       "      <td>0</td>\n",
       "      <td>0</td>\n",
       "      <td>0</td>\n",
       "      <td>0</td>\n",
       "      <td>...</td>\n",
       "      <td>0</td>\n",
       "      <td>0</td>\n",
       "      <td>0</td>\n",
       "      <td>0</td>\n",
       "      <td>0</td>\n",
       "      <td>0</td>\n",
       "      <td>0</td>\n",
       "      <td>0</td>\n",
       "      <td>0</td>\n",
       "      <td>0</td>\n",
       "    </tr>\n",
       "    <tr>\n",
       "      <th>41998</th>\n",
       "      <td>0</td>\n",
       "      <td>0</td>\n",
       "      <td>0</td>\n",
       "      <td>0</td>\n",
       "      <td>0</td>\n",
       "      <td>0</td>\n",
       "      <td>0</td>\n",
       "      <td>0</td>\n",
       "      <td>0</td>\n",
       "      <td>0</td>\n",
       "      <td>...</td>\n",
       "      <td>0</td>\n",
       "      <td>0</td>\n",
       "      <td>0</td>\n",
       "      <td>0</td>\n",
       "      <td>0</td>\n",
       "      <td>0</td>\n",
       "      <td>0</td>\n",
       "      <td>0</td>\n",
       "      <td>0</td>\n",
       "      <td>0</td>\n",
       "    </tr>\n",
       "    <tr>\n",
       "      <th>41999</th>\n",
       "      <td>0</td>\n",
       "      <td>0</td>\n",
       "      <td>0</td>\n",
       "      <td>0</td>\n",
       "      <td>0</td>\n",
       "      <td>0</td>\n",
       "      <td>0</td>\n",
       "      <td>0</td>\n",
       "      <td>0</td>\n",
       "      <td>0</td>\n",
       "      <td>...</td>\n",
       "      <td>0</td>\n",
       "      <td>0</td>\n",
       "      <td>0</td>\n",
       "      <td>0</td>\n",
       "      <td>0</td>\n",
       "      <td>0</td>\n",
       "      <td>0</td>\n",
       "      <td>0</td>\n",
       "      <td>0</td>\n",
       "      <td>0</td>\n",
       "    </tr>\n",
       "  </tbody>\n",
       "</table>\n",
       "<p>42000 rows × 784 columns</p>\n",
       "</div>"
      ],
      "text/plain": [
       "       pixel0  pixel1  pixel2  pixel3  pixel4  pixel5  pixel6  pixel7  pixel8  \\\n",
       "0           0       0       0       0       0       0       0       0       0   \n",
       "1           0       0       0       0       0       0       0       0       0   \n",
       "2           0       0       0       0       0       0       0       0       0   \n",
       "3           0       0       0       0       0       0       0       0       0   \n",
       "4           0       0       0       0       0       0       0       0       0   \n",
       "...       ...     ...     ...     ...     ...     ...     ...     ...     ...   \n",
       "41995       0       0       0       0       0       0       0       0       0   \n",
       "41996       0       0       0       0       0       0       0       0       0   \n",
       "41997       0       0       0       0       0       0       0       0       0   \n",
       "41998       0       0       0       0       0       0       0       0       0   \n",
       "41999       0       0       0       0       0       0       0       0       0   \n",
       "\n",
       "       pixel9  ...  pixel774  pixel775  pixel776  pixel777  pixel778  \\\n",
       "0           0  ...         0         0         0         0         0   \n",
       "1           0  ...         0         0         0         0         0   \n",
       "2           0  ...         0         0         0         0         0   \n",
       "3           0  ...         0         0         0         0         0   \n",
       "4           0  ...         0         0         0         0         0   \n",
       "...       ...  ...       ...       ...       ...       ...       ...   \n",
       "41995       0  ...         0         0         0         0         0   \n",
       "41996       0  ...         0         0         0         0         0   \n",
       "41997       0  ...         0         0         0         0         0   \n",
       "41998       0  ...         0         0         0         0         0   \n",
       "41999       0  ...         0         0         0         0         0   \n",
       "\n",
       "       pixel779  pixel780  pixel781  pixel782  pixel783  \n",
       "0             0         0         0         0         0  \n",
       "1             0         0         0         0         0  \n",
       "2             0         0         0         0         0  \n",
       "3             0         0         0         0         0  \n",
       "4             0         0         0         0         0  \n",
       "...         ...       ...       ...       ...       ...  \n",
       "41995         0         0         0         0         0  \n",
       "41996         0         0         0         0         0  \n",
       "41997         0         0         0         0         0  \n",
       "41998         0         0         0         0         0  \n",
       "41999         0         0         0         0         0  \n",
       "\n",
       "[42000 rows x 784 columns]"
      ]
     },
     "execution_count": 6,
     "metadata": {},
     "output_type": "execute_result"
    }
   ],
   "source": [
    "X"
   ]
  },
  {
   "cell_type": "code",
   "execution_count": 7,
   "id": "393b90f6",
   "metadata": {
    "execution": {
     "iopub.execute_input": "2023-08-06T13:33:12.270954Z",
     "iopub.status.busy": "2023-08-06T13:33:12.270583Z",
     "iopub.status.idle": "2023-08-06T13:33:12.555221Z",
     "shell.execute_reply": "2023-08-06T13:33:12.554271Z"
    },
    "papermill": {
     "duration": 0.293997,
     "end_time": "2023-08-06T13:33:12.557753",
     "exception": false,
     "start_time": "2023-08-06T13:33:12.263756",
     "status": "completed"
    },
    "tags": []
   },
   "outputs": [],
   "source": [
    "X_train, X_valid, y_train, y_valid = train_test_split(X, y, test_size=0.33, random_state=42)"
   ]
  },
  {
   "cell_type": "code",
   "execution_count": 8,
   "id": "df9bfc0e",
   "metadata": {
    "execution": {
     "iopub.execute_input": "2023-08-06T13:33:12.572251Z",
     "iopub.status.busy": "2023-08-06T13:33:12.571880Z",
     "iopub.status.idle": "2023-08-06T13:35:14.547492Z",
     "shell.execute_reply": "2023-08-06T13:35:14.546357Z"
    },
    "papermill": {
     "duration": 121.984907,
     "end_time": "2023-08-06T13:35:14.549952",
     "exception": false,
     "start_time": "2023-08-06T13:33:12.565045",
     "status": "completed"
    },
    "tags": []
   },
   "outputs": [
    {
     "name": "stdout",
     "output_type": "stream",
     "text": [
      "Epoch 1/50\n",
      "880/880 [==============================] - 3s 3ms/step - loss: 5.1486 - accuracy: 0.8575\n",
      "Epoch 2/50\n",
      "880/880 [==============================] - 2s 3ms/step - loss: 0.6688 - accuracy: 0.8992\n",
      "Epoch 3/50\n",
      "880/880 [==============================] - 2s 3ms/step - loss: 0.3813 - accuracy: 0.9184\n",
      "Epoch 4/50\n",
      "880/880 [==============================] - 2s 3ms/step - loss: 0.3193 - accuracy: 0.9283\n",
      "Epoch 5/50\n",
      "880/880 [==============================] - 2s 3ms/step - loss: 0.2729 - accuracy: 0.9361\n",
      "Epoch 6/50\n",
      "880/880 [==============================] - 2s 3ms/step - loss: 0.2436 - accuracy: 0.9423\n",
      "Epoch 7/50\n",
      "880/880 [==============================] - 2s 3ms/step - loss: 0.2420 - accuracy: 0.9420\n",
      "Epoch 8/50\n",
      "880/880 [==============================] - 2s 3ms/step - loss: 0.2133 - accuracy: 0.9478\n",
      "Epoch 9/50\n",
      "880/880 [==============================] - 3s 3ms/step - loss: 0.1957 - accuracy: 0.9512\n",
      "Epoch 10/50\n",
      "880/880 [==============================] - 2s 3ms/step - loss: 0.1938 - accuracy: 0.9529\n",
      "Epoch 11/50\n",
      "880/880 [==============================] - 3s 3ms/step - loss: 0.1847 - accuracy: 0.9549\n",
      "Epoch 12/50\n",
      "880/880 [==============================] - 2s 3ms/step - loss: 0.1776 - accuracy: 0.9581\n",
      "Epoch 13/50\n",
      "880/880 [==============================] - 2s 3ms/step - loss: 0.1701 - accuracy: 0.9602\n",
      "Epoch 14/50\n",
      "880/880 [==============================] - 2s 3ms/step - loss: 0.1686 - accuracy: 0.9611\n",
      "Epoch 15/50\n",
      "880/880 [==============================] - 2s 3ms/step - loss: 0.1594 - accuracy: 0.9626\n",
      "Epoch 16/50\n",
      "880/880 [==============================] - 2s 3ms/step - loss: 0.1566 - accuracy: 0.9632\n",
      "Epoch 17/50\n",
      "880/880 [==============================] - 2s 3ms/step - loss: 0.1596 - accuracy: 0.9634\n",
      "Epoch 18/50\n",
      "880/880 [==============================] - 2s 3ms/step - loss: 0.1503 - accuracy: 0.9655\n",
      "Epoch 19/50\n",
      "880/880 [==============================] - 2s 3ms/step - loss: 0.1476 - accuracy: 0.9678\n",
      "Epoch 20/50\n",
      "880/880 [==============================] - 2s 3ms/step - loss: 0.1541 - accuracy: 0.9645\n",
      "Epoch 21/50\n",
      "880/880 [==============================] - 2s 3ms/step - loss: 0.1315 - accuracy: 0.9694\n",
      "Epoch 22/50\n",
      "880/880 [==============================] - 2s 3ms/step - loss: 0.1339 - accuracy: 0.9694\n",
      "Epoch 23/50\n",
      "880/880 [==============================] - 2s 3ms/step - loss: 0.1333 - accuracy: 0.9698\n",
      "Epoch 24/50\n",
      "880/880 [==============================] - 2s 3ms/step - loss: 0.1313 - accuracy: 0.9720\n",
      "Epoch 25/50\n",
      "880/880 [==============================] - 3s 3ms/step - loss: 0.1255 - accuracy: 0.9722\n",
      "Epoch 26/50\n",
      "880/880 [==============================] - 2s 3ms/step - loss: 0.1374 - accuracy: 0.9692\n",
      "Epoch 27/50\n",
      "880/880 [==============================] - 2s 3ms/step - loss: 0.1291 - accuracy: 0.9706\n",
      "Epoch 28/50\n",
      "880/880 [==============================] - 2s 3ms/step - loss: 0.1123 - accuracy: 0.9730\n",
      "Epoch 29/50\n",
      "880/880 [==============================] - 2s 3ms/step - loss: 0.1063 - accuracy: 0.9739\n",
      "Epoch 30/50\n",
      "880/880 [==============================] - 2s 3ms/step - loss: 0.1314 - accuracy: 0.9715\n",
      "Epoch 31/50\n",
      "880/880 [==============================] - 2s 3ms/step - loss: 0.1147 - accuracy: 0.9728\n",
      "Epoch 32/50\n",
      "880/880 [==============================] - 2s 3ms/step - loss: 0.1207 - accuracy: 0.9732\n",
      "Epoch 33/50\n",
      "880/880 [==============================] - 2s 3ms/step - loss: 0.1145 - accuracy: 0.9744\n",
      "Epoch 34/50\n",
      "880/880 [==============================] - 2s 3ms/step - loss: 0.1239 - accuracy: 0.9730\n",
      "Epoch 35/50\n",
      "880/880 [==============================] - 2s 3ms/step - loss: 0.1083 - accuracy: 0.9771\n",
      "Epoch 36/50\n",
      "880/880 [==============================] - 2s 3ms/step - loss: 0.1105 - accuracy: 0.9735\n",
      "Epoch 37/50\n",
      "880/880 [==============================] - 2s 3ms/step - loss: 0.1026 - accuracy: 0.9768\n",
      "Epoch 38/50\n",
      "880/880 [==============================] - 3s 3ms/step - loss: 0.1084 - accuracy: 0.9760\n",
      "Epoch 39/50\n",
      "880/880 [==============================] - 2s 3ms/step - loss: 0.1200 - accuracy: 0.9763\n",
      "Epoch 40/50\n",
      "880/880 [==============================] - 2s 3ms/step - loss: 0.1064 - accuracy: 0.9772\n",
      "Epoch 41/50\n",
      "880/880 [==============================] - 2s 3ms/step - loss: 0.1032 - accuracy: 0.9770\n",
      "Epoch 42/50\n",
      "880/880 [==============================] - 2s 3ms/step - loss: 0.1175 - accuracy: 0.9753\n",
      "Epoch 43/50\n",
      "880/880 [==============================] - 2s 3ms/step - loss: 0.0977 - accuracy: 0.9781\n",
      "Epoch 44/50\n",
      "880/880 [==============================] - 2s 3ms/step - loss: 0.1094 - accuracy: 0.9789\n",
      "Epoch 45/50\n",
      "880/880 [==============================] - 2s 3ms/step - loss: 0.0994 - accuracy: 0.9796\n",
      "Epoch 46/50\n",
      "880/880 [==============================] - 2s 3ms/step - loss: 0.0929 - accuracy: 0.9795\n",
      "Epoch 47/50\n",
      "880/880 [==============================] - 3s 3ms/step - loss: 0.1059 - accuracy: 0.9780\n",
      "Epoch 48/50\n",
      "880/880 [==============================] - 2s 3ms/step - loss: 0.1093 - accuracy: 0.9785\n",
      "Epoch 49/50\n",
      "880/880 [==============================] - 2s 3ms/step - loss: 0.1053 - accuracy: 0.9794\n",
      "Epoch 50/50\n",
      "880/880 [==============================] - 2s 3ms/step - loss: 0.0883 - accuracy: 0.9816\n"
     ]
    },
    {
     "data": {
      "text/plain": [
       "<keras.callbacks.History at 0x7d54d05d0f10>"
      ]
     },
     "execution_count": 8,
     "metadata": {},
     "output_type": "execute_result"
    }
   ],
   "source": [
    "class myCallback(tf.keras.callbacks.Callback):\n",
    "  def on_epoch_end(self, epoch, logs={}):\n",
    "    if(logs.get('accuracy')>0.99):\n",
    "      print(\"\\nReached 95% accuracy so cancelling training!\")\n",
    "      self.model.stop_training = True\n",
    "\n",
    "callbacks = myCallback()\n",
    "\n",
    "model = tf.keras.models.Sequential([\n",
    "  tf.keras.layers.Flatten(),\n",
    "  tf.keras.layers.Dense(128, activation=tf.nn.relu),\n",
    "  tf.keras.layers.Dense(10, activation=tf.nn.softmax)\n",
    "])\n",
    "\n",
    "model.compile(optimizer='adam', loss='sparse_categorical_crossentropy', metrics=['accuracy'])\n",
    "\n",
    "model.fit(X_train, y_train, epochs=50, callbacks=[callbacks])"
   ]
  },
  {
   "cell_type": "code",
   "execution_count": 9,
   "id": "94c1acd1",
   "metadata": {
    "execution": {
     "iopub.execute_input": "2023-08-06T13:35:15.035031Z",
     "iopub.status.busy": "2023-08-06T13:35:15.034146Z",
     "iopub.status.idle": "2023-08-06T13:35:16.210040Z",
     "shell.execute_reply": "2023-08-06T13:35:16.208589Z"
    },
    "papermill": {
     "duration": 1.424149,
     "end_time": "2023-08-06T13:35:16.212510",
     "exception": false,
     "start_time": "2023-08-06T13:35:14.788361",
     "status": "completed"
    },
    "tags": []
   },
   "outputs": [
    {
     "name": "stdout",
     "output_type": "stream",
     "text": [
      "434/434 [==============================] - 1s 2ms/step - loss: 0.7109 - accuracy: 0.9545\n"
     ]
    },
    {
     "data": {
      "text/plain": [
       "[0.7108871936798096, 0.9544733166694641]"
      ]
     },
     "execution_count": 9,
     "metadata": {},
     "output_type": "execute_result"
    }
   ],
   "source": [
    "model.evaluate(X_valid, y_valid)"
   ]
  },
  {
   "cell_type": "code",
   "execution_count": 10,
   "id": "d8d4645b",
   "metadata": {
    "execution": {
     "iopub.execute_input": "2023-08-06T13:35:16.668886Z",
     "iopub.status.busy": "2023-08-06T13:35:16.668449Z",
     "iopub.status.idle": "2023-08-06T13:35:19.649477Z",
     "shell.execute_reply": "2023-08-06T13:35:19.648601Z"
    },
    "papermill": {
     "duration": 3.212779,
     "end_time": "2023-08-06T13:35:19.652403",
     "exception": false,
     "start_time": "2023-08-06T13:35:16.439624",
     "status": "completed"
    },
    "tags": []
   },
   "outputs": [
    {
     "name": "stdout",
     "output_type": "stream",
     "text": [
      "875/875 [==============================] - 1s 1ms/step\n"
     ]
    }
   ],
   "source": [
    "prediction_digit = model.predict(test_digit)"
   ]
  },
  {
   "cell_type": "code",
   "execution_count": 11,
   "id": "d47cad3d",
   "metadata": {
    "execution": {
     "iopub.execute_input": "2023-08-06T13:35:20.117873Z",
     "iopub.status.busy": "2023-08-06T13:35:20.117473Z",
     "iopub.status.idle": "2023-08-06T13:35:20.243666Z",
     "shell.execute_reply": "2023-08-06T13:35:20.242602Z"
    },
    "papermill": {
     "duration": 0.363332,
     "end_time": "2023-08-06T13:35:20.246337",
     "exception": false,
     "start_time": "2023-08-06T13:35:19.883005",
     "status": "completed"
    },
    "tags": []
   },
   "outputs": [],
   "source": [
    "# ค้นหาหมวดหมู่ที่มีความน่าจะเป็นสูงสุด\n",
    "pr = []\n",
    "for e in prediction_digit:\n",
    "    pr.append(np.argmax(e))"
   ]
  },
  {
   "cell_type": "code",
   "execution_count": 12,
   "id": "909d7eaa",
   "metadata": {
    "execution": {
     "iopub.execute_input": "2023-08-06T13:35:20.773377Z",
     "iopub.status.busy": "2023-08-06T13:35:20.772972Z",
     "iopub.status.idle": "2023-08-06T13:35:20.984134Z",
     "shell.execute_reply": "2023-08-06T13:35:20.982947Z"
    },
    "papermill": {
     "duration": 0.446473,
     "end_time": "2023-08-06T13:35:20.986405",
     "exception": false,
     "start_time": "2023-08-06T13:35:20.539932",
     "status": "completed"
    },
    "tags": []
   },
   "outputs": [
    {
     "name": "stdout",
     "output_type": "stream",
     "text": [
      "Submission saved\n"
     ]
    }
   ],
   "source": [
    "submission = pd.DataFrame({\"ImageId\": sample[\"ImageId\"] ,\"Label\": pr})\n",
    "\n",
    "submission.to_csv('/kaggle/working/submission.csv', index=False)\n",
    "\n",
    "print(\"Submission saved\")"
   ]
  }
 ],
 "metadata": {
  "kernelspec": {
   "display_name": "Python 3",
   "language": "python",
   "name": "python3"
  },
  "language_info": {
   "codemirror_mode": {
    "name": "ipython",
    "version": 3
   },
   "file_extension": ".py",
   "mimetype": "text/x-python",
   "name": "python",
   "nbconvert_exporter": "python",
   "pygments_lexer": "ipython3",
   "version": "3.10.12"
  },
  "papermill": {
   "default_parameters": {},
   "duration": 157.617532,
   "end_time": "2023-08-06T13:35:23.146356",
   "environment_variables": {},
   "exception": null,
   "input_path": "__notebook__.ipynb",
   "output_path": "__notebook__.ipynb",
   "parameters": {},
   "start_time": "2023-08-06T13:32:45.528824",
   "version": "2.4.0"
  }
 },
 "nbformat": 4,
 "nbformat_minor": 5
}
